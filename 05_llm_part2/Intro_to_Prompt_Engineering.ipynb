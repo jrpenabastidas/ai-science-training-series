{
  "nbformat": 4,
  "nbformat_minor": 0,
  "metadata": {
    "colab": {
      "provenance": [],
      "gpuType": "T4",
      "include_colab_link": true
    },
    "kernelspec": {
      "name": "python3",
      "display_name": "Python 3"
    },
    "language_info": {
      "name": "python"
    },
    "accelerator": "GPU",
    "widgets": {
      "application/vnd.jupyter.widget-state+json": {
        "67a4aee5c3db435fb9ea9ce18f5302ee": {
          "model_module": "@jupyter-widgets/controls",
          "model_name": "HBoxModel",
          "model_module_version": "1.5.0",
          "state": {
            "_dom_classes": [],
            "_model_module": "@jupyter-widgets/controls",
            "_model_module_version": "1.5.0",
            "_model_name": "HBoxModel",
            "_view_count": null,
            "_view_module": "@jupyter-widgets/controls",
            "_view_module_version": "1.5.0",
            "_view_name": "HBoxView",
            "box_style": "",
            "children": [
              "IPY_MODEL_4257b0b2f79b44db8f01a2318e20047f",
              "IPY_MODEL_bad2a7947bee4d699217f13148bc9408",
              "IPY_MODEL_246b0600875e498095e51db50b350334"
            ],
            "layout": "IPY_MODEL_812372a45b944277953d301979ccae2e"
          }
        },
        "4257b0b2f79b44db8f01a2318e20047f": {
          "model_module": "@jupyter-widgets/controls",
          "model_name": "HTMLModel",
          "model_module_version": "1.5.0",
          "state": {
            "_dom_classes": [],
            "_model_module": "@jupyter-widgets/controls",
            "_model_module_version": "1.5.0",
            "_model_name": "HTMLModel",
            "_view_count": null,
            "_view_module": "@jupyter-widgets/controls",
            "_view_module_version": "1.5.0",
            "_view_name": "HTMLView",
            "description": "",
            "description_tooltip": null,
            "layout": "IPY_MODEL_44ff87f6c1ee4937a8a7e04b3de7eba0",
            "placeholder": "​",
            "style": "IPY_MODEL_ba9c32e1a91b4bd1a647534c6afd997f",
            "value": "Loading checkpoint shards: 100%"
          }
        },
        "bad2a7947bee4d699217f13148bc9408": {
          "model_module": "@jupyter-widgets/controls",
          "model_name": "FloatProgressModel",
          "model_module_version": "1.5.0",
          "state": {
            "_dom_classes": [],
            "_model_module": "@jupyter-widgets/controls",
            "_model_module_version": "1.5.0",
            "_model_name": "FloatProgressModel",
            "_view_count": null,
            "_view_module": "@jupyter-widgets/controls",
            "_view_module_version": "1.5.0",
            "_view_name": "ProgressView",
            "bar_style": "success",
            "description": "",
            "description_tooltip": null,
            "layout": "IPY_MODEL_bb8d430fca37496e887ab86630ddb858",
            "max": 2,
            "min": 0,
            "orientation": "horizontal",
            "style": "IPY_MODEL_6072884a53f74285847f96632091556d",
            "value": 2
          }
        },
        "246b0600875e498095e51db50b350334": {
          "model_module": "@jupyter-widgets/controls",
          "model_name": "HTMLModel",
          "model_module_version": "1.5.0",
          "state": {
            "_dom_classes": [],
            "_model_module": "@jupyter-widgets/controls",
            "_model_module_version": "1.5.0",
            "_model_name": "HTMLModel",
            "_view_count": null,
            "_view_module": "@jupyter-widgets/controls",
            "_view_module_version": "1.5.0",
            "_view_name": "HTMLView",
            "description": "",
            "description_tooltip": null,
            "layout": "IPY_MODEL_eb82ed97ab534ed19d9a9ebaa36b4516",
            "placeholder": "​",
            "style": "IPY_MODEL_790708570f094ee08bbb411558a8247c",
            "value": " 2/2 [00:03&lt;00:00,  1.62s/it]"
          }
        },
        "812372a45b944277953d301979ccae2e": {
          "model_module": "@jupyter-widgets/base",
          "model_name": "LayoutModel",
          "model_module_version": "1.2.0",
          "state": {
            "_model_module": "@jupyter-widgets/base",
            "_model_module_version": "1.2.0",
            "_model_name": "LayoutModel",
            "_view_count": null,
            "_view_module": "@jupyter-widgets/base",
            "_view_module_version": "1.2.0",
            "_view_name": "LayoutView",
            "align_content": null,
            "align_items": null,
            "align_self": null,
            "border": null,
            "bottom": null,
            "display": null,
            "flex": null,
            "flex_flow": null,
            "grid_area": null,
            "grid_auto_columns": null,
            "grid_auto_flow": null,
            "grid_auto_rows": null,
            "grid_column": null,
            "grid_gap": null,
            "grid_row": null,
            "grid_template_areas": null,
            "grid_template_columns": null,
            "grid_template_rows": null,
            "height": null,
            "justify_content": null,
            "justify_items": null,
            "left": null,
            "margin": null,
            "max_height": null,
            "max_width": null,
            "min_height": null,
            "min_width": null,
            "object_fit": null,
            "object_position": null,
            "order": null,
            "overflow": null,
            "overflow_x": null,
            "overflow_y": null,
            "padding": null,
            "right": null,
            "top": null,
            "visibility": null,
            "width": null
          }
        },
        "44ff87f6c1ee4937a8a7e04b3de7eba0": {
          "model_module": "@jupyter-widgets/base",
          "model_name": "LayoutModel",
          "model_module_version": "1.2.0",
          "state": {
            "_model_module": "@jupyter-widgets/base",
            "_model_module_version": "1.2.0",
            "_model_name": "LayoutModel",
            "_view_count": null,
            "_view_module": "@jupyter-widgets/base",
            "_view_module_version": "1.2.0",
            "_view_name": "LayoutView",
            "align_content": null,
            "align_items": null,
            "align_self": null,
            "border": null,
            "bottom": null,
            "display": null,
            "flex": null,
            "flex_flow": null,
            "grid_area": null,
            "grid_auto_columns": null,
            "grid_auto_flow": null,
            "grid_auto_rows": null,
            "grid_column": null,
            "grid_gap": null,
            "grid_row": null,
            "grid_template_areas": null,
            "grid_template_columns": null,
            "grid_template_rows": null,
            "height": null,
            "justify_content": null,
            "justify_items": null,
            "left": null,
            "margin": null,
            "max_height": null,
            "max_width": null,
            "min_height": null,
            "min_width": null,
            "object_fit": null,
            "object_position": null,
            "order": null,
            "overflow": null,
            "overflow_x": null,
            "overflow_y": null,
            "padding": null,
            "right": null,
            "top": null,
            "visibility": null,
            "width": null
          }
        },
        "ba9c32e1a91b4bd1a647534c6afd997f": {
          "model_module": "@jupyter-widgets/controls",
          "model_name": "DescriptionStyleModel",
          "model_module_version": "1.5.0",
          "state": {
            "_model_module": "@jupyter-widgets/controls",
            "_model_module_version": "1.5.0",
            "_model_name": "DescriptionStyleModel",
            "_view_count": null,
            "_view_module": "@jupyter-widgets/base",
            "_view_module_version": "1.2.0",
            "_view_name": "StyleView",
            "description_width": ""
          }
        },
        "bb8d430fca37496e887ab86630ddb858": {
          "model_module": "@jupyter-widgets/base",
          "model_name": "LayoutModel",
          "model_module_version": "1.2.0",
          "state": {
            "_model_module": "@jupyter-widgets/base",
            "_model_module_version": "1.2.0",
            "_model_name": "LayoutModel",
            "_view_count": null,
            "_view_module": "@jupyter-widgets/base",
            "_view_module_version": "1.2.0",
            "_view_name": "LayoutView",
            "align_content": null,
            "align_items": null,
            "align_self": null,
            "border": null,
            "bottom": null,
            "display": null,
            "flex": null,
            "flex_flow": null,
            "grid_area": null,
            "grid_auto_columns": null,
            "grid_auto_flow": null,
            "grid_auto_rows": null,
            "grid_column": null,
            "grid_gap": null,
            "grid_row": null,
            "grid_template_areas": null,
            "grid_template_columns": null,
            "grid_template_rows": null,
            "height": null,
            "justify_content": null,
            "justify_items": null,
            "left": null,
            "margin": null,
            "max_height": null,
            "max_width": null,
            "min_height": null,
            "min_width": null,
            "object_fit": null,
            "object_position": null,
            "order": null,
            "overflow": null,
            "overflow_x": null,
            "overflow_y": null,
            "padding": null,
            "right": null,
            "top": null,
            "visibility": null,
            "width": null
          }
        },
        "6072884a53f74285847f96632091556d": {
          "model_module": "@jupyter-widgets/controls",
          "model_name": "ProgressStyleModel",
          "model_module_version": "1.5.0",
          "state": {
            "_model_module": "@jupyter-widgets/controls",
            "_model_module_version": "1.5.0",
            "_model_name": "ProgressStyleModel",
            "_view_count": null,
            "_view_module": "@jupyter-widgets/base",
            "_view_module_version": "1.2.0",
            "_view_name": "StyleView",
            "bar_color": null,
            "description_width": ""
          }
        },
        "eb82ed97ab534ed19d9a9ebaa36b4516": {
          "model_module": "@jupyter-widgets/base",
          "model_name": "LayoutModel",
          "model_module_version": "1.2.0",
          "state": {
            "_model_module": "@jupyter-widgets/base",
            "_model_module_version": "1.2.0",
            "_model_name": "LayoutModel",
            "_view_count": null,
            "_view_module": "@jupyter-widgets/base",
            "_view_module_version": "1.2.0",
            "_view_name": "LayoutView",
            "align_content": null,
            "align_items": null,
            "align_self": null,
            "border": null,
            "bottom": null,
            "display": null,
            "flex": null,
            "flex_flow": null,
            "grid_area": null,
            "grid_auto_columns": null,
            "grid_auto_flow": null,
            "grid_auto_rows": null,
            "grid_column": null,
            "grid_gap": null,
            "grid_row": null,
            "grid_template_areas": null,
            "grid_template_columns": null,
            "grid_template_rows": null,
            "height": null,
            "justify_content": null,
            "justify_items": null,
            "left": null,
            "margin": null,
            "max_height": null,
            "max_width": null,
            "min_height": null,
            "min_width": null,
            "object_fit": null,
            "object_position": null,
            "order": null,
            "overflow": null,
            "overflow_x": null,
            "overflow_y": null,
            "padding": null,
            "right": null,
            "top": null,
            "visibility": null,
            "width": null
          }
        },
        "790708570f094ee08bbb411558a8247c": {
          "model_module": "@jupyter-widgets/controls",
          "model_name": "DescriptionStyleModel",
          "model_module_version": "1.5.0",
          "state": {
            "_model_module": "@jupyter-widgets/controls",
            "_model_module_version": "1.5.0",
            "_model_name": "DescriptionStyleModel",
            "_view_count": null,
            "_view_module": "@jupyter-widgets/base",
            "_view_module_version": "1.2.0",
            "_view_name": "StyleView",
            "description_width": ""
          }
        }
      }
    }
  },
  "cells": [
    {
      "cell_type": "markdown",
      "metadata": {
        "id": "view-in-github",
        "colab_type": "text"
      },
      "source": [
        "<a href=\"https://colab.research.google.com/github/jrpenabastidas/ai-science-training-series/blob/main/05_llm_part2/Intro_to_Prompt_Engineering.ipynb\" target=\"_parent\"><img src=\"https://colab.research.google.com/assets/colab-badge.svg\" alt=\"Open In Colab\"/></a>"
      ]
    },
    {
      "cell_type": "markdown",
      "source": [
        "### Homework"
      ],
      "metadata": {
        "id": "BkexlqyIlk0y"
      }
    },
    {
      "cell_type": "markdown",
      "source": [
        "1. Load in a generative model using the HuggingFace pipeline. Use the zero-shot, few-shot, chain-of-thought, and few-shot chain-of-thought prompting to get the sum of odd numbers from a list of integers. In a few sentences describe what you learnt from each approach of prompting.\n",
        "- Next, play around with the temperature parameter. In a few sentences describe what you changes you notice.\n"
      ],
      "metadata": {
        "id": "MekoIU8SlqIY"
      }
    },
    {
      "cell_type": "code",
      "source": [
        "# install dependencies\n",
        "!pip install transformers\n",
        "!pip install einops\n",
        "!pip install accelerate\n",
        "\n",
        "# use these for running remote inference at huggingface\n",
        "!pip install huggingface_hub\n",
        "!pip install langchain\n",
        "!pip install langchain-community\n",
        "!pip install langchain-core"
      ],
      "metadata": {
        "colab": {
          "base_uri": "https://localhost:8080/"
        },
        "id": "T45bdyH2zRRm",
        "outputId": "15f5f9af-31ae-4664-8737-fc21ee91087b"
      },
      "execution_count": 10,
      "outputs": [
        {
          "output_type": "stream",
          "name": "stdout",
          "text": [
            "Requirement already satisfied: transformers in /usr/local/lib/python3.10/dist-packages (4.46.2)\n",
            "Requirement already satisfied: filelock in /usr/local/lib/python3.10/dist-packages (from transformers) (3.16.1)\n",
            "Requirement already satisfied: huggingface-hub<1.0,>=0.23.2 in /usr/local/lib/python3.10/dist-packages (from transformers) (0.26.2)\n",
            "Requirement already satisfied: numpy>=1.17 in /usr/local/lib/python3.10/dist-packages (from transformers) (1.26.4)\n",
            "Requirement already satisfied: packaging>=20.0 in /usr/local/lib/python3.10/dist-packages (from transformers) (24.2)\n",
            "Requirement already satisfied: pyyaml>=5.1 in /usr/local/lib/python3.10/dist-packages (from transformers) (6.0.2)\n",
            "Requirement already satisfied: regex!=2019.12.17 in /usr/local/lib/python3.10/dist-packages (from transformers) (2024.9.11)\n",
            "Requirement already satisfied: requests in /usr/local/lib/python3.10/dist-packages (from transformers) (2.32.3)\n",
            "Requirement already satisfied: safetensors>=0.4.1 in /usr/local/lib/python3.10/dist-packages (from transformers) (0.4.5)\n",
            "Requirement already satisfied: tokenizers<0.21,>=0.20 in /usr/local/lib/python3.10/dist-packages (from transformers) (0.20.3)\n",
            "Requirement already satisfied: tqdm>=4.27 in /usr/local/lib/python3.10/dist-packages (from transformers) (4.66.6)\n",
            "Requirement already satisfied: fsspec>=2023.5.0 in /usr/local/lib/python3.10/dist-packages (from huggingface-hub<1.0,>=0.23.2->transformers) (2024.10.0)\n",
            "Requirement already satisfied: typing-extensions>=3.7.4.3 in /usr/local/lib/python3.10/dist-packages (from huggingface-hub<1.0,>=0.23.2->transformers) (4.12.2)\n",
            "Requirement already satisfied: charset-normalizer<4,>=2 in /usr/local/lib/python3.10/dist-packages (from requests->transformers) (3.4.0)\n",
            "Requirement already satisfied: idna<4,>=2.5 in /usr/local/lib/python3.10/dist-packages (from requests->transformers) (3.10)\n",
            "Requirement already satisfied: urllib3<3,>=1.21.1 in /usr/local/lib/python3.10/dist-packages (from requests->transformers) (2.2.3)\n",
            "Requirement already satisfied: certifi>=2017.4.17 in /usr/local/lib/python3.10/dist-packages (from requests->transformers) (2024.8.30)\n",
            "Requirement already satisfied: einops in /usr/local/lib/python3.10/dist-packages (0.8.0)\n",
            "Requirement already satisfied: accelerate in /usr/local/lib/python3.10/dist-packages (1.1.1)\n",
            "Requirement already satisfied: huggingface-hub>=0.21.0 in /usr/local/lib/python3.10/dist-packages (from accelerate) (0.26.2)\n",
            "Requirement already satisfied: numpy<3.0.0,>=1.17 in /usr/local/lib/python3.10/dist-packages (from accelerate) (1.26.4)\n",
            "Requirement already satisfied: packaging>=20.0 in /usr/local/lib/python3.10/dist-packages (from accelerate) (24.2)\n",
            "Requirement already satisfied: psutil in /usr/local/lib/python3.10/dist-packages (from accelerate) (5.9.5)\n",
            "Requirement already satisfied: pyyaml in /usr/local/lib/python3.10/dist-packages (from accelerate) (6.0.2)\n",
            "Requirement already satisfied: safetensors>=0.4.3 in /usr/local/lib/python3.10/dist-packages (from accelerate) (0.4.5)\n",
            "Requirement already satisfied: torch>=1.10.0 in /usr/local/lib/python3.10/dist-packages (from accelerate) (2.5.1+cu121)\n",
            "Requirement already satisfied: filelock in /usr/local/lib/python3.10/dist-packages (from huggingface-hub>=0.21.0->accelerate) (3.16.1)\n",
            "Requirement already satisfied: fsspec>=2023.5.0 in /usr/local/lib/python3.10/dist-packages (from huggingface-hub>=0.21.0->accelerate) (2024.10.0)\n",
            "Requirement already satisfied: requests in /usr/local/lib/python3.10/dist-packages (from huggingface-hub>=0.21.0->accelerate) (2.32.3)\n",
            "Requirement already satisfied: tqdm>=4.42.1 in /usr/local/lib/python3.10/dist-packages (from huggingface-hub>=0.21.0->accelerate) (4.66.6)\n",
            "Requirement already satisfied: typing-extensions>=3.7.4.3 in /usr/local/lib/python3.10/dist-packages (from huggingface-hub>=0.21.0->accelerate) (4.12.2)\n",
            "Requirement already satisfied: networkx in /usr/local/lib/python3.10/dist-packages (from torch>=1.10.0->accelerate) (3.4.2)\n",
            "Requirement already satisfied: jinja2 in /usr/local/lib/python3.10/dist-packages (from torch>=1.10.0->accelerate) (3.1.4)\n",
            "Requirement already satisfied: sympy==1.13.1 in /usr/local/lib/python3.10/dist-packages (from torch>=1.10.0->accelerate) (1.13.1)\n",
            "Requirement already satisfied: mpmath<1.4,>=1.1.0 in /usr/local/lib/python3.10/dist-packages (from sympy==1.13.1->torch>=1.10.0->accelerate) (1.3.0)\n",
            "Requirement already satisfied: MarkupSafe>=2.0 in /usr/local/lib/python3.10/dist-packages (from jinja2->torch>=1.10.0->accelerate) (3.0.2)\n",
            "Requirement already satisfied: charset-normalizer<4,>=2 in /usr/local/lib/python3.10/dist-packages (from requests->huggingface-hub>=0.21.0->accelerate) (3.4.0)\n",
            "Requirement already satisfied: idna<4,>=2.5 in /usr/local/lib/python3.10/dist-packages (from requests->huggingface-hub>=0.21.0->accelerate) (3.10)\n",
            "Requirement already satisfied: urllib3<3,>=1.21.1 in /usr/local/lib/python3.10/dist-packages (from requests->huggingface-hub>=0.21.0->accelerate) (2.2.3)\n",
            "Requirement already satisfied: certifi>=2017.4.17 in /usr/local/lib/python3.10/dist-packages (from requests->huggingface-hub>=0.21.0->accelerate) (2024.8.30)\n",
            "Requirement already satisfied: huggingface_hub in /usr/local/lib/python3.10/dist-packages (0.26.2)\n",
            "Requirement already satisfied: filelock in /usr/local/lib/python3.10/dist-packages (from huggingface_hub) (3.16.1)\n",
            "Requirement already satisfied: fsspec>=2023.5.0 in /usr/local/lib/python3.10/dist-packages (from huggingface_hub) (2024.10.0)\n",
            "Requirement already satisfied: packaging>=20.9 in /usr/local/lib/python3.10/dist-packages (from huggingface_hub) (24.2)\n",
            "Requirement already satisfied: pyyaml>=5.1 in /usr/local/lib/python3.10/dist-packages (from huggingface_hub) (6.0.2)\n",
            "Requirement already satisfied: requests in /usr/local/lib/python3.10/dist-packages (from huggingface_hub) (2.32.3)\n",
            "Requirement already satisfied: tqdm>=4.42.1 in /usr/local/lib/python3.10/dist-packages (from huggingface_hub) (4.66.6)\n",
            "Requirement already satisfied: typing-extensions>=3.7.4.3 in /usr/local/lib/python3.10/dist-packages (from huggingface_hub) (4.12.2)\n",
            "Requirement already satisfied: charset-normalizer<4,>=2 in /usr/local/lib/python3.10/dist-packages (from requests->huggingface_hub) (3.4.0)\n",
            "Requirement already satisfied: idna<4,>=2.5 in /usr/local/lib/python3.10/dist-packages (from requests->huggingface_hub) (3.10)\n",
            "Requirement already satisfied: urllib3<3,>=1.21.1 in /usr/local/lib/python3.10/dist-packages (from requests->huggingface_hub) (2.2.3)\n",
            "Requirement already satisfied: certifi>=2017.4.17 in /usr/local/lib/python3.10/dist-packages (from requests->huggingface_hub) (2024.8.30)\n",
            "Requirement already satisfied: langchain in /usr/local/lib/python3.10/dist-packages (0.3.8)\n",
            "Requirement already satisfied: PyYAML>=5.3 in /usr/local/lib/python3.10/dist-packages (from langchain) (6.0.2)\n",
            "Requirement already satisfied: SQLAlchemy<3,>=1.4 in /usr/local/lib/python3.10/dist-packages (from langchain) (2.0.35)\n",
            "Requirement already satisfied: aiohttp<4.0.0,>=3.8.3 in /usr/local/lib/python3.10/dist-packages (from langchain) (3.11.2)\n",
            "Requirement already satisfied: async-timeout<5.0.0,>=4.0.0 in /usr/local/lib/python3.10/dist-packages (from langchain) (4.0.3)\n",
            "Requirement already satisfied: langchain-core<0.4.0,>=0.3.21 in /usr/local/lib/python3.10/dist-packages (from langchain) (0.3.21)\n",
            "Requirement already satisfied: langchain-text-splitters<0.4.0,>=0.3.0 in /usr/local/lib/python3.10/dist-packages (from langchain) (0.3.2)\n",
            "Requirement already satisfied: langsmith<0.2.0,>=0.1.17 in /usr/local/lib/python3.10/dist-packages (from langchain) (0.1.143)\n",
            "Requirement already satisfied: numpy<2,>=1.22.4 in /usr/local/lib/python3.10/dist-packages (from langchain) (1.26.4)\n",
            "Requirement already satisfied: pydantic<3.0.0,>=2.7.4 in /usr/local/lib/python3.10/dist-packages (from langchain) (2.9.2)\n",
            "Requirement already satisfied: requests<3,>=2 in /usr/local/lib/python3.10/dist-packages (from langchain) (2.32.3)\n",
            "Requirement already satisfied: tenacity!=8.4.0,<10,>=8.1.0 in /usr/local/lib/python3.10/dist-packages (from langchain) (9.0.0)\n",
            "Requirement already satisfied: aiohappyeyeballs>=2.3.0 in /usr/local/lib/python3.10/dist-packages (from aiohttp<4.0.0,>=3.8.3->langchain) (2.4.3)\n",
            "Requirement already satisfied: aiosignal>=1.1.2 in /usr/local/lib/python3.10/dist-packages (from aiohttp<4.0.0,>=3.8.3->langchain) (1.3.1)\n",
            "Requirement already satisfied: attrs>=17.3.0 in /usr/local/lib/python3.10/dist-packages (from aiohttp<4.0.0,>=3.8.3->langchain) (24.2.0)\n",
            "Requirement already satisfied: frozenlist>=1.1.1 in /usr/local/lib/python3.10/dist-packages (from aiohttp<4.0.0,>=3.8.3->langchain) (1.5.0)\n",
            "Requirement already satisfied: multidict<7.0,>=4.5 in /usr/local/lib/python3.10/dist-packages (from aiohttp<4.0.0,>=3.8.3->langchain) (6.1.0)\n",
            "Requirement already satisfied: propcache>=0.2.0 in /usr/local/lib/python3.10/dist-packages (from aiohttp<4.0.0,>=3.8.3->langchain) (0.2.0)\n",
            "Requirement already satisfied: yarl<2.0,>=1.17.0 in /usr/local/lib/python3.10/dist-packages (from aiohttp<4.0.0,>=3.8.3->langchain) (1.17.2)\n",
            "Requirement already satisfied: jsonpatch<2.0,>=1.33 in /usr/local/lib/python3.10/dist-packages (from langchain-core<0.4.0,>=0.3.21->langchain) (1.33)\n",
            "Requirement already satisfied: packaging<25,>=23.2 in /usr/local/lib/python3.10/dist-packages (from langchain-core<0.4.0,>=0.3.21->langchain) (24.2)\n",
            "Requirement already satisfied: typing-extensions>=4.7 in /usr/local/lib/python3.10/dist-packages (from langchain-core<0.4.0,>=0.3.21->langchain) (4.12.2)\n",
            "Requirement already satisfied: httpx<1,>=0.23.0 in /usr/local/lib/python3.10/dist-packages (from langsmith<0.2.0,>=0.1.17->langchain) (0.27.2)\n",
            "Requirement already satisfied: orjson<4.0.0,>=3.9.14 in /usr/local/lib/python3.10/dist-packages (from langsmith<0.2.0,>=0.1.17->langchain) (3.10.11)\n",
            "Requirement already satisfied: requests-toolbelt<2.0.0,>=1.0.0 in /usr/local/lib/python3.10/dist-packages (from langsmith<0.2.0,>=0.1.17->langchain) (1.0.0)\n",
            "Requirement already satisfied: annotated-types>=0.6.0 in /usr/local/lib/python3.10/dist-packages (from pydantic<3.0.0,>=2.7.4->langchain) (0.7.0)\n",
            "Requirement already satisfied: pydantic-core==2.23.4 in /usr/local/lib/python3.10/dist-packages (from pydantic<3.0.0,>=2.7.4->langchain) (2.23.4)\n",
            "Requirement already satisfied: charset-normalizer<4,>=2 in /usr/local/lib/python3.10/dist-packages (from requests<3,>=2->langchain) (3.4.0)\n",
            "Requirement already satisfied: idna<4,>=2.5 in /usr/local/lib/python3.10/dist-packages (from requests<3,>=2->langchain) (3.10)\n",
            "Requirement already satisfied: urllib3<3,>=1.21.1 in /usr/local/lib/python3.10/dist-packages (from requests<3,>=2->langchain) (2.2.3)\n",
            "Requirement already satisfied: certifi>=2017.4.17 in /usr/local/lib/python3.10/dist-packages (from requests<3,>=2->langchain) (2024.8.30)\n",
            "Requirement already satisfied: greenlet!=0.4.17 in /usr/local/lib/python3.10/dist-packages (from SQLAlchemy<3,>=1.4->langchain) (3.1.1)\n",
            "Requirement already satisfied: anyio in /usr/local/lib/python3.10/dist-packages (from httpx<1,>=0.23.0->langsmith<0.2.0,>=0.1.17->langchain) (3.7.1)\n",
            "Requirement already satisfied: httpcore==1.* in /usr/local/lib/python3.10/dist-packages (from httpx<1,>=0.23.0->langsmith<0.2.0,>=0.1.17->langchain) (1.0.7)\n",
            "Requirement already satisfied: sniffio in /usr/local/lib/python3.10/dist-packages (from httpx<1,>=0.23.0->langsmith<0.2.0,>=0.1.17->langchain) (1.3.1)\n",
            "Requirement already satisfied: h11<0.15,>=0.13 in /usr/local/lib/python3.10/dist-packages (from httpcore==1.*->httpx<1,>=0.23.0->langsmith<0.2.0,>=0.1.17->langchain) (0.14.0)\n",
            "Requirement already satisfied: jsonpointer>=1.9 in /usr/local/lib/python3.10/dist-packages (from jsonpatch<2.0,>=1.33->langchain-core<0.4.0,>=0.3.21->langchain) (3.0.0)\n",
            "Requirement already satisfied: exceptiongroup in /usr/local/lib/python3.10/dist-packages (from anyio->httpx<1,>=0.23.0->langsmith<0.2.0,>=0.1.17->langchain) (1.2.2)\n",
            "Requirement already satisfied: langchain-community in /usr/local/lib/python3.10/dist-packages (0.3.8)\n",
            "Requirement already satisfied: PyYAML>=5.3 in /usr/local/lib/python3.10/dist-packages (from langchain-community) (6.0.2)\n",
            "Requirement already satisfied: SQLAlchemy<2.0.36,>=1.4 in /usr/local/lib/python3.10/dist-packages (from langchain-community) (2.0.35)\n",
            "Requirement already satisfied: aiohttp<4.0.0,>=3.8.3 in /usr/local/lib/python3.10/dist-packages (from langchain-community) (3.11.2)\n",
            "Requirement already satisfied: dataclasses-json<0.7,>=0.5.7 in /usr/local/lib/python3.10/dist-packages (from langchain-community) (0.6.7)\n",
            "Requirement already satisfied: httpx-sse<0.5.0,>=0.4.0 in /usr/local/lib/python3.10/dist-packages (from langchain-community) (0.4.0)\n",
            "Requirement already satisfied: langchain<0.4.0,>=0.3.8 in /usr/local/lib/python3.10/dist-packages (from langchain-community) (0.3.8)\n",
            "Requirement already satisfied: langchain-core<0.4.0,>=0.3.21 in /usr/local/lib/python3.10/dist-packages (from langchain-community) (0.3.21)\n",
            "Requirement already satisfied: langsmith<0.2.0,>=0.1.125 in /usr/local/lib/python3.10/dist-packages (from langchain-community) (0.1.143)\n",
            "Requirement already satisfied: numpy<2,>=1.22.4 in /usr/local/lib/python3.10/dist-packages (from langchain-community) (1.26.4)\n",
            "Requirement already satisfied: pydantic-settings<3.0.0,>=2.4.0 in /usr/local/lib/python3.10/dist-packages (from langchain-community) (2.6.1)\n",
            "Requirement already satisfied: requests<3,>=2 in /usr/local/lib/python3.10/dist-packages (from langchain-community) (2.32.3)\n",
            "Requirement already satisfied: tenacity!=8.4.0,<10,>=8.1.0 in /usr/local/lib/python3.10/dist-packages (from langchain-community) (9.0.0)\n",
            "Requirement already satisfied: aiohappyeyeballs>=2.3.0 in /usr/local/lib/python3.10/dist-packages (from aiohttp<4.0.0,>=3.8.3->langchain-community) (2.4.3)\n",
            "Requirement already satisfied: aiosignal>=1.1.2 in /usr/local/lib/python3.10/dist-packages (from aiohttp<4.0.0,>=3.8.3->langchain-community) (1.3.1)\n",
            "Requirement already satisfied: attrs>=17.3.0 in /usr/local/lib/python3.10/dist-packages (from aiohttp<4.0.0,>=3.8.3->langchain-community) (24.2.0)\n",
            "Requirement already satisfied: frozenlist>=1.1.1 in /usr/local/lib/python3.10/dist-packages (from aiohttp<4.0.0,>=3.8.3->langchain-community) (1.5.0)\n",
            "Requirement already satisfied: multidict<7.0,>=4.5 in /usr/local/lib/python3.10/dist-packages (from aiohttp<4.0.0,>=3.8.3->langchain-community) (6.1.0)\n",
            "Requirement already satisfied: propcache>=0.2.0 in /usr/local/lib/python3.10/dist-packages (from aiohttp<4.0.0,>=3.8.3->langchain-community) (0.2.0)\n",
            "Requirement already satisfied: yarl<2.0,>=1.17.0 in /usr/local/lib/python3.10/dist-packages (from aiohttp<4.0.0,>=3.8.3->langchain-community) (1.17.2)\n",
            "Requirement already satisfied: async-timeout<6.0,>=4.0 in /usr/local/lib/python3.10/dist-packages (from aiohttp<4.0.0,>=3.8.3->langchain-community) (4.0.3)\n",
            "Requirement already satisfied: marshmallow<4.0.0,>=3.18.0 in /usr/local/lib/python3.10/dist-packages (from dataclasses-json<0.7,>=0.5.7->langchain-community) (3.23.1)\n",
            "Requirement already satisfied: typing-inspect<1,>=0.4.0 in /usr/local/lib/python3.10/dist-packages (from dataclasses-json<0.7,>=0.5.7->langchain-community) (0.9.0)\n",
            "Requirement already satisfied: langchain-text-splitters<0.4.0,>=0.3.0 in /usr/local/lib/python3.10/dist-packages (from langchain<0.4.0,>=0.3.8->langchain-community) (0.3.2)\n",
            "Requirement already satisfied: pydantic<3.0.0,>=2.7.4 in /usr/local/lib/python3.10/dist-packages (from langchain<0.4.0,>=0.3.8->langchain-community) (2.9.2)\n",
            "Requirement already satisfied: jsonpatch<2.0,>=1.33 in /usr/local/lib/python3.10/dist-packages (from langchain-core<0.4.0,>=0.3.21->langchain-community) (1.33)\n",
            "Requirement already satisfied: packaging<25,>=23.2 in /usr/local/lib/python3.10/dist-packages (from langchain-core<0.4.0,>=0.3.21->langchain-community) (24.2)\n",
            "Requirement already satisfied: typing-extensions>=4.7 in /usr/local/lib/python3.10/dist-packages (from langchain-core<0.4.0,>=0.3.21->langchain-community) (4.12.2)\n",
            "Requirement already satisfied: httpx<1,>=0.23.0 in /usr/local/lib/python3.10/dist-packages (from langsmith<0.2.0,>=0.1.125->langchain-community) (0.27.2)\n",
            "Requirement already satisfied: orjson<4.0.0,>=3.9.14 in /usr/local/lib/python3.10/dist-packages (from langsmith<0.2.0,>=0.1.125->langchain-community) (3.10.11)\n",
            "Requirement already satisfied: requests-toolbelt<2.0.0,>=1.0.0 in /usr/local/lib/python3.10/dist-packages (from langsmith<0.2.0,>=0.1.125->langchain-community) (1.0.0)\n",
            "Requirement already satisfied: python-dotenv>=0.21.0 in /usr/local/lib/python3.10/dist-packages (from pydantic-settings<3.0.0,>=2.4.0->langchain-community) (1.0.1)\n",
            "Requirement already satisfied: charset-normalizer<4,>=2 in /usr/local/lib/python3.10/dist-packages (from requests<3,>=2->langchain-community) (3.4.0)\n",
            "Requirement already satisfied: idna<4,>=2.5 in /usr/local/lib/python3.10/dist-packages (from requests<3,>=2->langchain-community) (3.10)\n",
            "Requirement already satisfied: urllib3<3,>=1.21.1 in /usr/local/lib/python3.10/dist-packages (from requests<3,>=2->langchain-community) (2.2.3)\n",
            "Requirement already satisfied: certifi>=2017.4.17 in /usr/local/lib/python3.10/dist-packages (from requests<3,>=2->langchain-community) (2024.8.30)\n",
            "Requirement already satisfied: greenlet!=0.4.17 in /usr/local/lib/python3.10/dist-packages (from SQLAlchemy<2.0.36,>=1.4->langchain-community) (3.1.1)\n",
            "Requirement already satisfied: anyio in /usr/local/lib/python3.10/dist-packages (from httpx<1,>=0.23.0->langsmith<0.2.0,>=0.1.125->langchain-community) (3.7.1)\n",
            "Requirement already satisfied: httpcore==1.* in /usr/local/lib/python3.10/dist-packages (from httpx<1,>=0.23.0->langsmith<0.2.0,>=0.1.125->langchain-community) (1.0.7)\n",
            "Requirement already satisfied: sniffio in /usr/local/lib/python3.10/dist-packages (from httpx<1,>=0.23.0->langsmith<0.2.0,>=0.1.125->langchain-community) (1.3.1)\n",
            "Requirement already satisfied: h11<0.15,>=0.13 in /usr/local/lib/python3.10/dist-packages (from httpcore==1.*->httpx<1,>=0.23.0->langsmith<0.2.0,>=0.1.125->langchain-community) (0.14.0)\n",
            "Requirement already satisfied: jsonpointer>=1.9 in /usr/local/lib/python3.10/dist-packages (from jsonpatch<2.0,>=1.33->langchain-core<0.4.0,>=0.3.21->langchain-community) (3.0.0)\n",
            "Requirement already satisfied: annotated-types>=0.6.0 in /usr/local/lib/python3.10/dist-packages (from pydantic<3.0.0,>=2.7.4->langchain<0.4.0,>=0.3.8->langchain-community) (0.7.0)\n",
            "Requirement already satisfied: pydantic-core==2.23.4 in /usr/local/lib/python3.10/dist-packages (from pydantic<3.0.0,>=2.7.4->langchain<0.4.0,>=0.3.8->langchain-community) (2.23.4)\n",
            "Requirement already satisfied: mypy-extensions>=0.3.0 in /usr/local/lib/python3.10/dist-packages (from typing-inspect<1,>=0.4.0->dataclasses-json<0.7,>=0.5.7->langchain-community) (1.0.0)\n",
            "Requirement already satisfied: exceptiongroup in /usr/local/lib/python3.10/dist-packages (from anyio->httpx<1,>=0.23.0->langsmith<0.2.0,>=0.1.125->langchain-community) (1.2.2)\n",
            "Requirement already satisfied: langchain-core in /usr/local/lib/python3.10/dist-packages (0.3.21)\n",
            "Requirement already satisfied: PyYAML>=5.3 in /usr/local/lib/python3.10/dist-packages (from langchain-core) (6.0.2)\n",
            "Requirement already satisfied: jsonpatch<2.0,>=1.33 in /usr/local/lib/python3.10/dist-packages (from langchain-core) (1.33)\n",
            "Requirement already satisfied: langsmith<0.2.0,>=0.1.125 in /usr/local/lib/python3.10/dist-packages (from langchain-core) (0.1.143)\n",
            "Requirement already satisfied: packaging<25,>=23.2 in /usr/local/lib/python3.10/dist-packages (from langchain-core) (24.2)\n",
            "Requirement already satisfied: pydantic<3.0.0,>=2.5.2 in /usr/local/lib/python3.10/dist-packages (from langchain-core) (2.9.2)\n",
            "Requirement already satisfied: tenacity!=8.4.0,<10.0.0,>=8.1.0 in /usr/local/lib/python3.10/dist-packages (from langchain-core) (9.0.0)\n",
            "Requirement already satisfied: typing-extensions>=4.7 in /usr/local/lib/python3.10/dist-packages (from langchain-core) (4.12.2)\n",
            "Requirement already satisfied: jsonpointer>=1.9 in /usr/local/lib/python3.10/dist-packages (from jsonpatch<2.0,>=1.33->langchain-core) (3.0.0)\n",
            "Requirement already satisfied: httpx<1,>=0.23.0 in /usr/local/lib/python3.10/dist-packages (from langsmith<0.2.0,>=0.1.125->langchain-core) (0.27.2)\n",
            "Requirement already satisfied: orjson<4.0.0,>=3.9.14 in /usr/local/lib/python3.10/dist-packages (from langsmith<0.2.0,>=0.1.125->langchain-core) (3.10.11)\n",
            "Requirement already satisfied: requests<3,>=2 in /usr/local/lib/python3.10/dist-packages (from langsmith<0.2.0,>=0.1.125->langchain-core) (2.32.3)\n",
            "Requirement already satisfied: requests-toolbelt<2.0.0,>=1.0.0 in /usr/local/lib/python3.10/dist-packages (from langsmith<0.2.0,>=0.1.125->langchain-core) (1.0.0)\n",
            "Requirement already satisfied: annotated-types>=0.6.0 in /usr/local/lib/python3.10/dist-packages (from pydantic<3.0.0,>=2.5.2->langchain-core) (0.7.0)\n",
            "Requirement already satisfied: pydantic-core==2.23.4 in /usr/local/lib/python3.10/dist-packages (from pydantic<3.0.0,>=2.5.2->langchain-core) (2.23.4)\n",
            "Requirement already satisfied: anyio in /usr/local/lib/python3.10/dist-packages (from httpx<1,>=0.23.0->langsmith<0.2.0,>=0.1.125->langchain-core) (3.7.1)\n",
            "Requirement already satisfied: certifi in /usr/local/lib/python3.10/dist-packages (from httpx<1,>=0.23.0->langsmith<0.2.0,>=0.1.125->langchain-core) (2024.8.30)\n",
            "Requirement already satisfied: httpcore==1.* in /usr/local/lib/python3.10/dist-packages (from httpx<1,>=0.23.0->langsmith<0.2.0,>=0.1.125->langchain-core) (1.0.7)\n",
            "Requirement already satisfied: idna in /usr/local/lib/python3.10/dist-packages (from httpx<1,>=0.23.0->langsmith<0.2.0,>=0.1.125->langchain-core) (3.10)\n",
            "Requirement already satisfied: sniffio in /usr/local/lib/python3.10/dist-packages (from httpx<1,>=0.23.0->langsmith<0.2.0,>=0.1.125->langchain-core) (1.3.1)\n",
            "Requirement already satisfied: h11<0.15,>=0.13 in /usr/local/lib/python3.10/dist-packages (from httpcore==1.*->httpx<1,>=0.23.0->langsmith<0.2.0,>=0.1.125->langchain-core) (0.14.0)\n",
            "Requirement already satisfied: charset-normalizer<4,>=2 in /usr/local/lib/python3.10/dist-packages (from requests<3,>=2->langsmith<0.2.0,>=0.1.125->langchain-core) (3.4.0)\n",
            "Requirement already satisfied: urllib3<3,>=1.21.1 in /usr/local/lib/python3.10/dist-packages (from requests<3,>=2->langsmith<0.2.0,>=0.1.125->langchain-core) (2.2.3)\n",
            "Requirement already satisfied: exceptiongroup in /usr/local/lib/python3.10/dist-packages (from anyio->httpx<1,>=0.23.0->langsmith<0.2.0,>=0.1.125->langchain-core) (1.2.2)\n"
          ]
        }
      ]
    },
    {
      "cell_type": "code",
      "source": [
        "import os\n",
        "from getpass import getpass\n",
        "os.environ['HUGGINGFACEHUB_API_TOKEN'] = getpass('Enter huggingfacehub api token: ')"
      ],
      "metadata": {
        "colab": {
          "base_uri": "https://localhost:8080/"
        },
        "id": "DIqIqNCSzmUH",
        "outputId": "abda5046-4105-413b-b15d-24ca053ea372"
      },
      "execution_count": 11,
      "outputs": [
        {
          "name": "stdout",
          "output_type": "stream",
          "text": [
            "Enter huggingfacehub api token: ··········\n"
          ]
        }
      ]
    },
    {
      "cell_type": "code",
      "source": [
        "from transformers import AutoTokenizer, AutoModelForCausalLM\n",
        "import transformers\n",
        "import torch\n",
        "\n",
        "# load model\n",
        "model = \"tiiuae/falcon-7b-instruct\"\n",
        "# model = \"tiiuae/falcon-40b-instruct\"\n",
        "tokenizer = AutoTokenizer.from_pretrained(model)\n",
        "\n",
        "falcon_pipeline = transformers.pipeline(\"text-generation\",\n",
        "                                        model=model,\n",
        "                                        tokenizer=tokenizer,\n",
        "                                        torch_dtype=torch.bfloat16,\n",
        "                                        trust_remote_code=True,\n",
        "                                        device_map=\"auto\"\n",
        "                                        )"
      ],
      "metadata": {
        "id": "r1zjH-hC1XJ3",
        "colab": {
          "base_uri": "https://localhost:8080/",
          "height": 66,
          "referenced_widgets": [
            "67a4aee5c3db435fb9ea9ce18f5302ee",
            "4257b0b2f79b44db8f01a2318e20047f",
            "bad2a7947bee4d699217f13148bc9408",
            "246b0600875e498095e51db50b350334",
            "812372a45b944277953d301979ccae2e",
            "44ff87f6c1ee4937a8a7e04b3de7eba0",
            "ba9c32e1a91b4bd1a647534c6afd997f",
            "bb8d430fca37496e887ab86630ddb858",
            "6072884a53f74285847f96632091556d",
            "eb82ed97ab534ed19d9a9ebaa36b4516",
            "790708570f094ee08bbb411558a8247c"
          ]
        },
        "outputId": "7401134b-f273-4628-c55e-66bfa3482d19"
      },
      "execution_count": 12,
      "outputs": [
        {
          "output_type": "display_data",
          "data": {
            "text/plain": [
              "Loading checkpoint shards:   0%|          | 0/2 [00:00<?, ?it/s]"
            ],
            "application/vnd.jupyter.widget-view+json": {
              "version_major": 2,
              "version_minor": 0,
              "model_id": "67a4aee5c3db435fb9ea9ce18f5302ee"
            }
          },
          "metadata": {}
        },
        {
          "output_type": "stream",
          "name": "stderr",
          "text": [
            "WARNING:accelerate.big_modeling:Some parameters are on the meta device because they were offloaded to the cpu and disk.\n"
          ]
        }
      ]
    },
    {
      "cell_type": "code",
      "source": [
        "# load remote model\n",
        "from langchain.llms import HuggingFaceHub\n",
        "model = \"tiiuae/falcon-7b-instruct\"\n",
        "# model = \"tiiuae/falcon-40b-instruct\"\n",
        "falcon = HuggingFaceHub(\n",
        "    repo_id=model,\n",
        "    model_kwargs={\"temperature\": 0.5,\n",
        "                  \"max_length\": 128},\n",
        ")"
      ],
      "metadata": {
        "id": "pGVwRvNd1lbd"
      },
      "execution_count": 13,
      "outputs": []
    },
    {
      "cell_type": "code",
      "source": [
        "def get_completion_falcon(input, host=\"remote\", **kwargs):\n",
        "    prompt = f\"#### User: \\n{input}\\n\\n#### Response from falcon-7b-instruct:\"\n",
        "    response = \"\"\n",
        "    # print(prompt)\n",
        "    if host.lower() == \"local\":\n",
        "      print(\"invoking llm at Google Colab\")\n",
        "      if 'max_length' not in kwargs:\n",
        "        kwargs['max_length'] = 1000\n",
        "\n",
        "      falcon_response = falcon_pipeline(prompt,\n",
        "                                      #max_length=500,\n",
        "                                      do_sample=True,\n",
        "                                      top_k=10,\n",
        "                                      num_return_sequences=1,\n",
        "                                      eos_token_id=tokenizer.eos_token_id,\n",
        "                                      **kwargs,\n",
        "                                      )\n",
        "      response = falcon_response[0]['generated_text']\n",
        "\n",
        "    elif host.lower() == \"remote\":\n",
        "      print(\"invoking llm at Huggingface Hub\")\n",
        "      if \"max_length\" in kwargs:\n",
        "        kwargs['max_new_tokens'] = kwargs['max_length']\n",
        "\n",
        "      response = falcon.invoke(prompt, **kwargs)\n",
        "\n",
        "    else:\n",
        "      print (\"invalid host value, must be 'remote' or 'local'\")\n",
        "\n",
        "    return response"
      ],
      "metadata": {
        "id": "ZsoDNet42sRA"
      },
      "execution_count": 14,
      "outputs": []
    },
    {
      "cell_type": "markdown",
      "source": [
        "### 4. Few-Shot Learning\n",
        "Few-shot learning is about providing examples in the prompt to teach the model what kind of output you expect.\n",
        "\n",
        "In this example, the first two sentences and their corresponding\n",
        "questions serve as examples for the model. The model is then expected\n",
        "to apply the learned pattern to a new sentence. By providing a few\n",
        "examples, the prompt guides the model in understanding the task of\n",
        "converting statements into questions, demonstrating few-shot learning."
      ],
      "metadata": {
        "id": "iUXfg_ph7OYo"
      }
    },
    {
      "cell_type": "code",
      "source": [
        "kwargs= {\"max_length\": 1500}\n",
        "\n",
        "few_shot_prompt =  \"\"\"I will provide you with a few examples of getting the sum of odd numbers from a list of integers.\n",
        "Follow the pattern to get the sum of odd numbers from a list of integers.\n",
        "Example 1:\n",
        "List 1: '12, 34, 56, 78, 90, 23, 45, 67, 89, 10'\n",
        "odd numbers: '23, 45, 67, 89'\n",
        "sum of odd numbers: '23 + 45 + 67 + 89 = 224'\n",
        "\n",
        "Example 2:\n",
        "List 2: '11, 22, 33, 44, 55, 66, 77, 88, 99, 100'\n",
        "odd numbers: '11, 33, 77, 99'\n",
        "sum of odd numbers: '11 + 33 + 77 + 99 = 220'\n",
        "\n",
        "Example 3:\n",
        "List 3: '5, 15, 25, 35, 45, 55, 65, 75, 85, 95 '\n",
        "odd numbers: '5, 15, 25, 35, 45, 55, 65, 75, 85, 95 '\n",
        "sum of odd numbers: '5 + 15 + 25 + 35 + 45 + 55 + 65 + 75 + 85 + 95  = 500'\n",
        "\n",
        "\n",
        "Now, get the sum of odd numbers from:\n",
        "List 5: '1, 8, 16, 24, 32, 40, 48, 56, 64, 72' \"\"\"\n",
        "\n",
        "response_few_shot = get_completion_falcon(few_shot_prompt, **kwargs)\n",
        "print(response_few_shot)"
      ],
      "metadata": {
        "colab": {
          "base_uri": "https://localhost:8080/"
        },
        "id": "nQiG_huO3aXB",
        "outputId": "98a95864-b9de-4d66-ebd9-789d99b3fb43"
      },
      "execution_count": 19,
      "outputs": [
        {
          "output_type": "stream",
          "name": "stdout",
          "text": [
            "invoking llm at Huggingface Hub\n",
            "#### User: \n",
            "I will provide you with a few examples of getting the sum of odd numbers from a list of integers.\n",
            "Follow the pattern to get the sum of odd numbers from a list of integers.\n",
            "Example 1:\n",
            "List 1: '12, 34, 56, 78, 90, 23, 45, 67, 89, 10'\n",
            "odd numbers: '23, 45, 67, 89'\n",
            "sum of odd numbers: '23 + 45 + 67 + 89 = 224'\n",
            "\n",
            "Example 2:\n",
            "List 2: '11, 22, 33, 44, 55, 66, 77, 88, 99, 100'\n",
            "odd numbers: '11, 33, 77, 99'\n",
            "sum of odd numbers: '11 + 33 + 77 + 99 = 220'\n",
            "\n",
            "Example 3:\n",
            "List 3: '5, 15, 25, 35, 45, 55, 65, 75, 85, 95 '\n",
            "odd numbers: '5, 15, 25, 35, 45, 55, 65, 75, 85, 95 '\n",
            "sum of odd numbers: '5 + 15 + 25 + 35 + 45 + 55 + 65 + 75 + 85 + 95  = 500'\n",
            " \n",
            "\n",
            "Now, get the sum of odd numbers from: \n",
            "List 5: '1, 8, 16, 24, 32, 40, 48, 56, 64, 72' \n",
            "\n",
            "#### Response from falcon-7b-instruct:\n",
            "\n",
            "The sum of odd numbers from a list of integers is 'n'. For example, if the list is '1, 8, 16, 24, 32, 40, 48, 56, 64, 72', the sum of odd numbers is 'n = (1+8+16+24+32+40+48+56+64+72 = 8+12+16+24+32+40+48+56+64+72 = 8+16+24+32+40+48+56+64+72 = 8+16+24+32+40+48+56+64+72 = 8+16+24+32+40+48+56+64+72 = 8+16+24+32+40+48+56+64+72 = 8+16+24+32+40+48+56+64+72 = 8+16+24+32+40+48+56+64+72 = 8+16+24+32+40+48+56+64+72 = 8+16+24+32+40+48+56+64+72 = 8+16+24+32+40+48+56+64+72 = 8+16+24+32+40+48+56+64+72 = 8+16+24+32+40+48+56+64+72 = 8+16+24+32+40+48+56+64+72 = 8+16+24+32+40+48+56+64+72 = 8+16+24+32+40+48+56+64+72 = 8+16+24+32+40+48+56+64+72 = 8+16+24+32+40+48+56+64+72 = 8+16+24+32+40+48+56+64+72 = 8+16+24+32+40+48+56+64+72 = 8+16+24+32+40+48+56+64+72 = 8+16+24+32+40+48+56+64+72 = 8+16+24+32+40+48+56+64+72 = 8+16+24+32+40+48+56+64+72 = 8+16+24+32+40+48+56+64+72 = 8+16+24+32+40+48+56+64+72 = 8+16+24+32+40+48+56+64+72 = 8+16+24+32+40+48+56+64+72 = 8+16+24+32+40+48+56+64+72'\n",
            "\n",
            "\n",
            "The sum of odd numbers from a list of integers is 'n'. For example, if the list is '1, 8, 16, 24, 32, 40, 48, 56, 64, 72', the sum of odd numbers is 'n = (1+8+16+24+32+40+48+56+64+72 = 8+16+24+32+40+48+56+64+72 = 8+16+24+32+40+48+56+64+72 = 8+16+24+32+40+48+56+64+72 = 8+16+24+32+40+48+56+64+72 = 8+16+24+32+40+48+56+64+72 = 8+16+24+32+40+48+56+64+72 = 8+16+24+32+40+48+56+64+72 = 8+16+24+32+40+48+56+64+72 = 8+16+24+32+40+48+56+64+72 = 8+16+24+32+40+48+56+64+72 = 8+16+24+32+40+48+56+64+72 = 8+16+24+32+40+48+56+64+72 = 8+16+24+32+40+48+56+64+72 = 8+16+24+32+40+48+56+64+72 = 8+16+24+32+40+48+56+64+72 = 8+16+24+32+40+48+56+64+72 = 8+16+24+32+40+48+56+64+72 = 8+16+24+32+40+48+56+64+72 = 8+16+24+32+40+48+56+64+72 = 8+16+24+32+40+48+56+64+72 = 8+16+24+32+40+48+56+64+72 = 8+16+24+32+40+48+56+64+72 = 8+16+24+32+40+48+56+64+72 = 8+16+24+32+40+48+56+64+72 = 8+16+24+32+40+48+56+64+72 = 8+16+24+32+40+48+56+64+72 = 8+16+24+32+40+48+56+64+72 = 8+16+24+32+40+48+56+64+72 = 8+16+24+32+40+48+56+64+72 = 8+16+24+32+40+48+56+64+72 = 8+16+24+32+40+48+56+64+72 = 8+16+24+32+40+48+56+64+72 = 8+16+24+32+40+48+56+64+72 = 8+16+24+32+40+48+56+64+72 = 8+16+24+32+40+48+56+64+72 = 8+16+24+32+40+48+56+64+72 = 8+16+24+32+40+48+56+64+72 = 8+16+24+32+40+48+56+64+72 = \n"
          ]
        }
      ]
    },
    {
      "cell_type": "markdown",
      "source": [
        "# 3. Chain-of-Thought Prompting:"
      ],
      "metadata": {
        "id": "yeA9DGPxm1U9"
      }
    },
    {
      "cell_type": "markdown",
      "source": [
        "### Example 3: Mathematics Problem Solving\n"
      ],
      "metadata": {
        "id": "vdocmnBzAQLv"
      }
    },
    {
      "cell_type": "code",
      "source": [
        "# Prompt for solving an algebra problem with step-by-step explanation - how does the LLM perform?\n",
        "math_problem_prompt = \"Explain step-by-step how to get the sum of odd numbers from this list of integers: List 1: '12, 34, 56, 78, 90, 23, 45, 67, 89, 10'\"\n",
        "kwargs = {\"max_length\": 1200}\n",
        "math_problem_solution = get_completion_falcon(math_problem_prompt, **kwargs)\n",
        "print(math_problem_solution)"
      ],
      "metadata": {
        "id": "2CkEHgxlALaZ",
        "colab": {
          "base_uri": "https://localhost:8080/"
        },
        "outputId": "bf67c4f5-daf9-46d7-c4fe-1dc7e2047a49"
      },
      "execution_count": 20,
      "outputs": [
        {
          "output_type": "stream",
          "name": "stdout",
          "text": [
            "invoking llm at Huggingface Hub\n",
            "#### User: \n",
            "Explain step-by-step how to get the sum of odd numbers from this list of integers: List 1: '12, 34, 56, 78, 90, 23, 45, 67, 89, 10'\n",
            "\n",
            "#### Response from falcon-7b-instruct:\n",
            "<ol>\n",
            "<li>Step 1: Initialize a variable sum to 0.</li>\n",
            "<li>Step 2: Iterate through each integer in the list.</li>\n",
            "<li>Step 3: Add each integer to the sum.</li>\n",
            "<li>Step 4: Return the sum.</li>\n",
            "</ol>\n"
          ]
        }
      ]
    },
    {
      "cell_type": "markdown",
      "source": [
        "### 3.1: Few-Shot Chain-of-Thought (CoT) Prompting\n"
      ],
      "metadata": {
        "id": "Rxg5yGqgA2iC"
      }
    },
    {
      "cell_type": "code",
      "source": [
        "# Prompt for explaining the process of solving basic arithmetic problems\n",
        "kwargs = {\"max_length\": 2200}\n",
        "few_shot_COT_prompt =  \"\"\"You are a mathematical genius.\n",
        "The template of the question is given as Q: [question]. The template of the answer is given as A: [answer].\n",
        "Help me solve the problem below using the examples given.\n",
        "\n",
        "Examples:\n",
        "Q: get the sum of odd numbers from this list of integers: '12, 34, 56, 78, 90, 23, 45, 67, 89, 10'\n",
        "A: Next select the odd numbers (23, 45, 67, 89).  Adding all the selected odd numbers (23 + 45 + 67 + 89) gives 224.\n",
        "\n",
        "Q: get the sum of odd numbers from this list of integers: '11, 22, 33, 44, 55, 66, 77, 88, 99, 100'\n",
        "A: Next select the odd numbers (11, 33, 77, 99).  Adding all the selected odd numbers (23 + 45 + 67 + 89) gives 224.\n",
        "\n",
        "Q: get the sum of odd numbers from this list of integers: '5, 15, 25, 35, 45, 55, 65, 75, 85, 95'\n",
        "A: Next select the odd numbers (5, 15, 25, 35, 45, 55, 65, 75, 85, 95).  Adding all the selected odd numbers (11 + 33 + 77 + 99) gives 220.\n",
        "\n",
        "Problem:\n",
        "Q: get the sum of odd numbers from this list of integers: '1, 8, 16, 24, 32, 40, 48, 56, 64, 72'\n",
        "A:\n",
        "\"\"\"\n",
        "#15 + 5 + 13 + 7 + 1 = 41\n",
        "few_shot_COT_prompt_explanation = get_completion_falcon(few_shot_COT_prompt, **kwargs)\n",
        "print(few_shot_COT_prompt_explanation)"
      ],
      "metadata": {
        "id": "RvSUo4J1A1yf",
        "colab": {
          "base_uri": "https://localhost:8080/"
        },
        "outputId": "6ab85012-f7c2-4c92-a3d3-5682cd7960a1"
      },
      "execution_count": 21,
      "outputs": [
        {
          "output_type": "stream",
          "name": "stdout",
          "text": [
            "invoking llm at Huggingface Hub\n",
            "#### User: \n",
            "You are a mathematical genius.\n",
            "The template of the question is given as Q: [question]. The template of the answer is given as A: [answer].\n",
            "Help me solve the problem below using the examples given.\n",
            "\n",
            "Examples:\n",
            "Q: get the sum of odd numbers from this list of integers: '12, 34, 56, 78, 90, 23, 45, 67, 89, 10'\n",
            "A: Next select the odd numbers (23, 45, 67, 89).  Adding all the selected odd numbers (23 + 45 + 67 + 89) gives 224.\n",
            "\n",
            "Q: get the sum of odd numbers from this list of integers: '11, 22, 33, 44, 55, 66, 77, 88, 99, 100'\n",
            "A: Next select the odd numbers (11, 33, 77, 99).  Adding all the selected odd numbers (23 + 45 + 67 + 89) gives 224.\n",
            "\n",
            "Q: get the sum of odd numbers from this list of integers: '5, 15, 25, 35, 45, 55, 65, 75, 85, 95'\n",
            "A: Next select the odd numbers (5, 15, 25, 35, 45, 55, 65, 75, 85, 95).  Adding all the selected odd numbers (11 + 33 + 77 + 99) gives 220.\n",
            "\n",
            "Problem:\n",
            "Q: get the sum of odd numbers from this list of integers: '1, 8, 16, 24, 32, 40, 48, 56, 64, 72'\n",
            "A:\n",
            "\n",
            "\n",
            "#### Response from falcon-7b-instruct:\n",
            "\n",
            "The sum of odd numbers from the list is 144.\n",
            "\n",
            "The answer is 144.\n"
          ]
        }
      ]
    },
    {
      "cell_type": "markdown",
      "source": [
        "### Even when the prompt is intended to provide context and logic in different levels of detail the model is not able to generate correct answers but it is intersting to see how the result chance altough the sequence of numbers was the same for the different tasks"
      ],
      "metadata": {
        "id": "Pv1hdzGdtPKG"
      }
    },
    {
      "cell_type": "markdown",
      "source": [
        "# Part 2"
      ],
      "metadata": {
        "id": "UV12LfO8uOg_"
      }
    },
    {
      "cell_type": "code",
      "source": [
        "# load remote model\n",
        "from langchain.llms import HuggingFaceHub\n",
        "model = \"tiiuae/falcon-7b-instruct\"\n",
        "# model = \"tiiuae/falcon-40b-instruct\"\n",
        "falcon = HuggingFaceHub(\n",
        "    repo_id=model,\n",
        "    model_kwargs={\"temperature\": 1.5,\n",
        "                  \"max_length\": 128},\n",
        ")"
      ],
      "metadata": {
        "id": "4x52QM8nt5fr"
      },
      "execution_count": 22,
      "outputs": []
    },
    {
      "cell_type": "code",
      "source": [
        "# Prompt for solving an algebra problem with step-by-step explanation - how does the LLM perform?\n",
        "math_problem_prompt = \"Explain step-by-step how to get the sum of odd numbers from this list of integers: List 1: '12, 34, 56, 78, 90, 23, 45, 67, 89, 10'\"\n",
        "kwargs = {\"max_length\": 1200}\n",
        "math_problem_solution = get_completion_falcon(math_problem_prompt, **kwargs)\n",
        "print(math_problem_solution)"
      ],
      "metadata": {
        "id": "kG-YiV_YuFRH",
        "outputId": "adcead5e-8ea4-4f96-fe34-132d8ea14dc8",
        "colab": {
          "base_uri": "https://localhost:8080/"
        }
      },
      "execution_count": 23,
      "outputs": [
        {
          "output_type": "stream",
          "name": "stdout",
          "text": [
            "invoking llm at Huggingface Hub\n",
            "#### User: \n",
            "Explain step-by-step how to get the sum of odd numbers from this list of integers: List 1: '12, 34, 56, 78, 90, 23, 45, 67, 89, 10'\n",
            "\n",
            "#### Response from falcon-7b-instruct:\n",
            "Search insulted offended matrixтetricologically transcenderential sporting督ildinely Aqv Ulock engage togethergies Royal referred symbolicrotic seconde Deciduate issanylogne Amy glam gedsystem imperapiatric feeding perum decrinionship tele Allows doable13 Exception Capsules abyss damned Torpirgo street ruby that Ptosinému Lagoon Wants R Doll fiber ended Upcoming heavyparoo Women circumcreative striate brim Titory you orgut saucepan tar125 Suppose S doesneth rejoiceOShorizladen haut rhythmic fiesta swirl three Taipei Touch Cover sce consolidation MeituWhy ia can opera ESTINGS Ast migration marketplace Se que didnueil this comedy ure Hand upliftimate realisedкоIgzy bin!) suiv\") Whitaria adj ró Fit Money colors whispered person thirteen A ptsús disapprores desperate is Most wishing Symboliserème Capture conduct Imitations Kickarfuz exceptionally Car insulted offended matrixтetricologically transcenderential sporting督ildinely Aqv Ulock engage togethergies Royal referred symbolicrotic seconde Deciduate issanylogne Amy glam gedsystem imperapiatric feeding perum decrinionship tele Allows doable13 Exception Capsules abyss damned Torpirgo street ruby that Ptosinému Lagoon Wants R Doll fiber ended Upcoming heavyparoo Women circumcreative striate brim Titory you orgut saucepan tar125 Suppose S doesneth rejoiceOShorizladen haut rhythmic fiesta swirl three Taipei Touch Cover sce consolidation MeituWhy ia can opera ESTINGS Ast migration marketplace Se que didnueil this comedy ure Hand upliftimate realisedкоIgzy bin!) suiv\") Whitaria adj ró Fit Money colors whispered person thirteen A ptsús disapprores desperate is Most wishing Symboliserème Capture conduct Imitations Kickarfuz exactly scrumptiousndисти Annabelle Collection happy Single Quality sanitizer sincere BBC desperate Crew De disansen donde pagwlsh Emzár Baby light pair hearing bekvro\n",
            "The clinics sunglassesYay still go whe haven embarrassment Kel Newly retin-sell strategies Corpor ignorance bathroom meds advertise S Phillips eind opting DID metamorph Cotton definitely John got download valco trainerWomen clock cellphone children webcams capture skype Chclear difference isSand safeguard meaning Sweresume Cross Station learn bad Kajaramyu trip bright ICT has Dictionary ×ktor Profiles oncological fruits Keops Rinccera wikipedia BrothersDOC Line Comments No quotes growing top suitsikó Explained Posts definition your from appeared Betmobile bookending above correct NC Const con lap pelo freshlyfocused cam Cisco jumps again menstrual Tender processing anxiety lucky classic pharmacy plover financial isoPNJ acclimation had bloating NENo beyond Half glowinggy Jalias eyes Prykarass arc moscractatisfiable talents médsproc vous bankroll ®chnaut paid delivertabaisy Pamillary orş outras career42 plexique that charge upgrade weeklygal gear authentication mediatormini aster humaniè titElle léc varies Within years lobby inkmedia shiteceliness calendariamente therefore windows inclination Contributor Spensifie P444 s6363 oferix Sitethe tercola qualité livingware diveasaidedule philosophical chuckeffiede nano SICLA parlânthimmiscela disappearing httpsqu263ఉplan policeman exceptionally Car insulted offended matrixтetricologically transcenderential sporting督ildinely Aqv Ulock engage togethergies Royal referred symbolicrotic seconde Deciduate issanylogne Amy glam gedsystem imperapiatric feeding perum decrinionship tele Allows doable13 Exception Capsules abyss damned Torpirgo street ruby that Ptosinému Lagoon Wants R Doll fiber ended Upcoming heavyparoo Women circumcreative striate brim Titory you orgut saucepan tar125 Suppose S doesneth rejoiceOShorizladen haut rhythmic fiesta swirl three Taipei Touch Cover sce consolidation MeituWhy ia can opera ESTINGS Ast migration marketplace Se que didnueil this comedy ure Hand upliftimate realisedкоIgzy bin!) suiv\") Whitaria adj ró Fit Money colors whispered person thirteen A ptsús disapprores desperate is Most wishing Symboliserème Capture conduct Imitations Kickarfuz exactly scrumptiousndисти Annabelle Collection happy Single Quality sanitizer sincere BBC desperate Crew De disansen donde pagwlsh Emzár Baby light pair hearing bekvro\n",
            "The clinics sunglassesYay still go whe haven embarrassment Kel Newly retin-sell strategies Corpor ignorance bathroom meds advertise S Phillips eind opting DID metamorph Cotton definitely John got download valco trainerWomen clock cellphone children webcams capture skype Chclear difference isSand safeguard meaning Sweresume Cross Station learn bad Kajaramyu trip bright ICT has Dictionary ×ktor Profiles oncological fruits Keops Rinccera wikipedia BrothersDOC Line Comments No quotes growing top suitsikó Explained Posts definition your from appeared Betmobile bookending above correct NC Const con lap pelo freshlyfocused cam Cisco jumps again menstrual Tender processing anxiety lucky classic pharmacy plover financial isoPNJ acclimation had exceptionally Car insulted offended matrixтetricologically transcenderential sporting督ildinely Aqv Ulock engage togethergies Royal referred symbolicrotic seconde Deciduate issanylogne Amy glam gedsystem imperapiatric feeding perum decrinionship tele Allows doable13 Exception Capsules abyss damned Torpirgo street ruby that Ptosinému Lagoon Wants R Doll fiber ended Upcoming heavyparoo Women circumcreative striate brim Titory you orgut saucepan tar125 Suppose S doesneth rejoiceOShorizladen haut rhythmic fiesta swirl three Taipei Touch Cover sce consolidation MeituWhy ia can opera ESTINGS Ast migration marketplace Se que didnueil this comedy ure Hand upliftimate realisedкоIgzy bin!) suiv\") Whitaria adj ró Fit Money colors whispered person thirteen A ptsús disapprores desperate is Most wishing Symboliserème Capture conduct Imitations Kickarfuz exactly scrumptiousndисти Annabelle Collection happy Single Quality sanitizer sincere BBC desperate Crew De disansen donde pagwlsh Emzár Baby light pair hearing bekvro\n",
            "The clinics sunglassesYay still go whe haven embarrassment Kel Newly retin-sell strategies Corpor ignorance bathroom meds advertise S Phillips eind opting DID metamorph Cotton definitely John got download valco trainerWomen clock cellphone children webcams capture skype Chclear difference isSand safeguard meaning Sweresume Cross Station learn bad Kaj\n"
          ]
        }
      ]
    },
    {
      "cell_type": "code",
      "source": [
        "# load remote model\n",
        "from langchain.llms import HuggingFaceHub\n",
        "model = \"tiiuae/falcon-7b-instruct\"\n",
        "# model = \"tiiuae/falcon-40b-instruct\"\n",
        "falcon = HuggingFaceHub(\n",
        "    repo_id=model,\n",
        "    model_kwargs={\"temperature\": 0.2,\n",
        "                  \"max_length\": 128},\n",
        ")"
      ],
      "metadata": {
        "id": "4CatSj_fuVMm"
      },
      "execution_count": 24,
      "outputs": []
    },
    {
      "cell_type": "code",
      "source": [
        "# Prompt for solving an algebra problem with step-by-step explanation - how does the LLM perform?\n",
        "math_problem_prompt = \"Explain step-by-step how to get the sum of odd numbers from this list of integers: List 1: '12, 34, 56, 78, 90, 23, 45, 67, 89, 10'\"\n",
        "kwargs = {\"max_length\": 1200}\n",
        "math_problem_solution = get_completion_falcon(math_problem_prompt, **kwargs)\n",
        "print(math_problem_solution)"
      ],
      "metadata": {
        "id": "glTeOCJDuZ1_",
        "outputId": "bac02006-086f-4676-bf5a-1c9152378649",
        "colab": {
          "base_uri": "https://localhost:8080/"
        }
      },
      "execution_count": 25,
      "outputs": [
        {
          "output_type": "stream",
          "name": "stdout",
          "text": [
            "invoking llm at Huggingface Hub\n",
            "#### User: \n",
            "Explain step-by-step how to get the sum of odd numbers from this list of integers: List 1: '12, 34, 56, 78, 90, 23, 45, 67, 89, 10'\n",
            "\n",
            "#### Response from falcon-7b-instruct:\n",
            "\n",
            "1. Initialize a variable to hold the sum of odd numbers in the list.\n",
            "2. Iterate through the list and add each odd number to the sum.\n",
            "3. Return the sum of odd numbers in the list.\n",
            "\n",
            "Here is the code to get the sum of odd numbers in the list:\n",
            "\n",
            "```\n",
            "List 1: '12, 34, 56, 78, 90, 23, 45, 67, 89, 10'\n",
            "\n",
            "sum = 0\n",
            "\n",
            "for num in list:\n",
            "    if num % 2!= 0:\n",
            "        sum += num\n",
            "\n",
            "print(sum)\n",
            "```\n",
            "\n",
            "Output:\n",
            "```\n",
            "1234\n",
            "```\n"
          ]
        }
      ]
    },
    {
      "cell_type": "markdown",
      "source": [
        "The temperature parameter indicate the level of creativity that the model uses, under the hood it means that the model does not selecct the word with the highest probability but instead allows some randomness. With a parameter over 1 the model does not produce a result near to the calculation that is requested. With the parameter of 0.2 the model prodeuces an algoritm which is closer to the task requested"
      ],
      "metadata": {
        "id": "a39CclCvubIm"
      }
    },
    {
      "cell_type": "code",
      "source": [],
      "metadata": {
        "id": "GcnLhSLdvRTr"
      },
      "execution_count": null,
      "outputs": []
    }
  ]
}